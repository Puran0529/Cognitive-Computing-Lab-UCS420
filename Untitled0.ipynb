{
  "nbformat": 4,
  "nbformat_minor": 0,
  "metadata": {
    "colab": {
      "provenance": []
    },
    "kernelspec": {
      "name": "python3",
      "display_name": "Python 3"
    },
    "language_info": {
      "name": "python"
    }
  },
  "cells": [
    {
      "cell_type": "code",
      "execution_count": 1,
      "metadata": {
        "colab": {
          "base_uri": "https://localhost:8080/"
        },
        "id": "Vb-h22gskfuP",
        "outputId": "f00b9b2e-3ff7-4a52-84e5-4dbd5d7b3b3d"
      },
      "outputs": [
        {
          "output_type": "stream",
          "name": "stdout",
          "text": [
            "PuranjayPuranjayPuranjay\n"
          ]
        }
      ],
      "source": [
        "a='Puranjay'\n",
        "print(a*3)"
      ]
    },
    {
      "cell_type": "markdown",
      "source": [],
      "metadata": {
        "id": "bUoQkJNski1Z"
      }
    },
    {
      "cell_type": "code",
      "source": [
        "a=int(input(\"Enter first no :\"));\n",
        "b=int(input(\"Enter second no :\"));\n",
        "c=int(input(\"Enter third no :\"));\n",
        "result=a+b+c;\n",
        "print(result);"
      ],
      "metadata": {
        "colab": {
          "base_uri": "https://localhost:8080/"
        },
        "id": "QR-nB2A6k2tk",
        "outputId": "4295b406-ac59-4deb-914c-1355a33696ac"
      },
      "execution_count": 4,
      "outputs": [
        {
          "output_type": "stream",
          "name": "stdout",
          "text": [
            "Enter first no :2\n",
            "Enter second no :3\n",
            "Enter third no :4\n",
            "9\n"
          ]
        }
      ]
    },
    {
      "cell_type": "code",
      "source": [
        "a=\"rahul\"\n",
        "b=\"kumar\"\n",
        "c=\"mondal\"\n",
        "d=a+b+c\n",
        "\n",
        "print(d)"
      ],
      "metadata": {
        "colab": {
          "base_uri": "https://localhost:8080/"
        },
        "id": "hHunGuiilQFm",
        "outputId": "6ca5a813-6ace-4f0d-947e-7ac472307967"
      },
      "execution_count": 5,
      "outputs": [
        {
          "output_type": "stream",
          "name": "stdout",
          "text": [
            "rahulkumarmondal\n"
          ]
        }
      ]
    },
    {
      "cell_type": "code",
      "source": [
        "for i in range(1,11):\n",
        "    print(7,\"*\",i,\"=\",7*i)\n",
        "print(\"\\n\")\n",
        "for i in range(1,11):\n",
        "    print(9,\"*\",i,\"=\",9*i)\n"
      ],
      "metadata": {
        "colab": {
          "base_uri": "https://localhost:8080/"
        },
        "id": "r8ZbyneLlb4w",
        "outputId": "7056055b-3cef-47cc-d000-ad0b70e4a148"
      },
      "execution_count": 6,
      "outputs": [
        {
          "output_type": "stream",
          "name": "stdout",
          "text": [
            "7 * 1 = 7\n",
            "7 * 2 = 14\n",
            "7 * 3 = 21\n",
            "7 * 4 = 28\n",
            "7 * 5 = 35\n",
            "7 * 6 = 42\n",
            "7 * 7 = 49\n",
            "7 * 8 = 56\n",
            "7 * 9 = 63\n",
            "7 * 10 = 70\n",
            "\n",
            "\n",
            "9 * 1 = 9\n",
            "9 * 2 = 18\n",
            "9 * 3 = 27\n",
            "9 * 4 = 36\n",
            "9 * 5 = 45\n",
            "9 * 6 = 54\n",
            "9 * 7 = 63\n",
            "9 * 8 = 72\n",
            "9 * 9 = 81\n",
            "9 * 10 = 90\n"
          ]
        }
      ]
    },
    {
      "cell_type": "code",
      "source": [
        "def print_table(n):\n",
        "    for i in range(1, 11):\n",
        "        print(f\"{n} x {i} = {n * i}\")\n",
        "\n",
        "\n",
        "n = int(input(\"Enter a number to print its multiplication table: \"))\n",
        "\n",
        "\n",
        "print_table(n)"
      ],
      "metadata": {
        "colab": {
          "base_uri": "https://localhost:8080/"
        },
        "id": "Q1gnq_GileDz",
        "outputId": "ceb958bb-770d-4390-ff74-87c464611aef"
      },
      "execution_count": 7,
      "outputs": [
        {
          "output_type": "stream",
          "name": "stdout",
          "text": [
            "Enter a number to print its multiplication table: 1\n",
            "1 x 1 = 1\n",
            "1 x 2 = 2\n",
            "1 x 3 = 3\n",
            "1 x 4 = 4\n",
            "1 x 5 = 5\n",
            "1 x 6 = 6\n",
            "1 x 7 = 7\n",
            "1 x 8 = 8\n",
            "1 x 9 = 9\n",
            "1 x 10 = 10\n"
          ]
        }
      ]
    },
    {
      "cell_type": "code",
      "source": [
        "n = int(input(\"Enter a number: \"))\n",
        "\n",
        "total_sum = 0\n",
        "\n",
        "for i in range(1, n + 1):\n",
        "    total_sum += i\n",
        "\n",
        "print(f\"The sum of all numbers from 1 to {n} is: {total_sum}\")"
      ],
      "metadata": {
        "colab": {
          "base_uri": "https://localhost:8080/"
        },
        "id": "jJbhFGfIlgCY",
        "outputId": "2e7fa6e5-9896-4025-f824-0a845ba186c6"
      },
      "execution_count": 8,
      "outputs": [
        {
          "output_type": "stream",
          "name": "stdout",
          "text": [
            "Enter a number: 5\n",
            "The sum of all numbers from 1 to 5 is: 15\n"
          ]
        }
      ]
    },
    {
      "cell_type": "code",
      "source": [
        "\n",
        "num1 = float(input(\"Enter first number: \"))\n",
        "num2 = float(input(\"Enter second number: \"))\n",
        "num3 = float(input(\"Enter third number: \"))\n",
        "\n",
        "maximum = max(num1, num2, num3)\n",
        "\n",
        "\n",
        "print(f\"The maximum number is: {maximum}\")"
      ],
      "metadata": {
        "colab": {
          "base_uri": "https://localhost:8080/"
        },
        "id": "gYiUhZf6liRY",
        "outputId": "fd568061-6683-4ad3-8203-fba12b3252e4"
      },
      "execution_count": 9,
      "outputs": [
        {
          "output_type": "stream",
          "name": "stdout",
          "text": [
            "Enter first number: 1\n",
            "Enter second number: 2\n",
            "Enter third number: 3\n",
            "The maximum number is: 3.0\n"
          ]
        }
      ]
    },
    {
      "cell_type": "code",
      "source": [
        "def sum_divisible_by_7_and_9(n):\n",
        "    total_sum = 0\n",
        "    for i in range(1, n+1):\n",
        "        if (i % 7 == 0 and i % 9 == 0):\n",
        "            total_sum += i\n",
        "    return total_sum\n",
        "\n",
        "n = int(input(\"Enter the value of n: \"))\n",
        "\n",
        "result = sum_divisible_by_7_and_9(n)\n",
        "print(f\"The sum of all numbers divisible by 7 and 9 from 1 to {n} is: {result}\")"
      ],
      "metadata": {
        "colab": {
          "base_uri": "https://localhost:8080/"
        },
        "id": "UFczFQG7lkEl",
        "outputId": "43d1e522-ed0b-4189-f967-a6981615693c"
      },
      "execution_count": 11,
      "outputs": [
        {
          "output_type": "stream",
          "name": "stdout",
          "text": [
            "Enter the value of n: 10\n",
            "The sum of all numbers divisible by 7 and 9 from 1 to 10 is: 0\n"
          ]
        }
      ]
    },
    {
      "cell_type": "code",
      "source": [
        "def prime_no(n):\n",
        "    total_sum = 0\n",
        "    for i in range(2, n+1):\n",
        "        is_prime = True\n",
        "        for j in range(2, i//2+1):\n",
        "            if i % j == 0:\n",
        "                is_prime = False\n",
        "                break\n",
        "        if is_prime:\n",
        "            total_sum += i\n",
        "    return total_sum\n",
        "\n",
        "n = int(input(\"Enter the value of n: \"))\n",
        "\n",
        "result = prime_no(n)\n",
        "print(f\"The sum of all prime numbers from 1 to {n} is: {result}\")"
      ],
      "metadata": {
        "colab": {
          "base_uri": "https://localhost:8080/"
        },
        "id": "Ab4YllNClnWg",
        "outputId": "bb7c65fd-7549-46ad-ab47-bb35ee0eaac5"
      },
      "execution_count": 12,
      "outputs": [
        {
          "output_type": "stream",
          "name": "stdout",
          "text": [
            "Enter the value of n: 10\n",
            "The sum of all prime numbers from 1 to 10 is: 17\n"
          ]
        }
      ]
    }
  ]
}